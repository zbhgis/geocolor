{
 "cells": [
  {
   "cell_type": "code",
   "execution_count": null,
   "id": "ee1d26f7",
   "metadata": {},
   "outputs": [],
   "source": [
    "import geocolor"
   ]
  },
  {
   "cell_type": "code",
   "execution_count": null,
   "id": "07398d9d",
   "metadata": {},
   "outputs": [],
   "source": [
    "m = geocolor.Map()\n",
    "m"
   ]
  },
  {
   "cell_type": "code",
   "execution_count": null,
   "id": "d1d23d2c",
   "metadata": {},
   "outputs": [],
   "source": [
    "filename = \"https://github.com/opengeos/datasets/releases/download/raster/dem_90m.tif\""
   ]
  },
  {
   "cell_type": "code",
   "execution_count": null,
   "id": "d45ba45f",
   "metadata": {},
   "outputs": [],
   "source": [
    "m.add_raster(filename)\n",
    "m"
   ]
  },
  {
   "cell_type": "code",
   "execution_count": null,
   "id": "9e4be979",
   "metadata": {},
   "outputs": [],
   "source": [
    "url = \"https://i.gifer.com/XOsX.gif\"\n",
    "bounds = ((13, -150), (40, -120))"
   ]
  },
  {
   "cell_type": "code",
   "execution_count": null,
   "id": "6b08868c",
   "metadata": {},
   "outputs": [],
   "source": [
    "m.add_image(url, bounds=bounds)\n",
    "m"
   ]
  }
 ],
 "metadata": {
  "kernelspec": {
   "display_name": "geo",
   "language": "python",
   "name": "python3"
  },
  "language_info": {
   "codemirror_mode": {
    "name": "ipython",
    "version": 3
   },
   "file_extension": ".py",
   "mimetype": "text/x-python",
   "name": "python",
   "nbconvert_exporter": "python",
   "pygments_lexer": "ipython3",
   "version": "3.12.9"
  }
 },
 "nbformat": 4,
 "nbformat_minor": 5
}
