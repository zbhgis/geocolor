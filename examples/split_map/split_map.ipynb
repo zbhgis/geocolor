{
 "cells": [
  {
   "cell_type": "markdown",
   "id": "c8d84732",
   "metadata": {},
   "source": [
    "[![Open In Colab](https://colab.research.google.com/assets/colab-badge.svg)](https://colab.research.google.com/notebooks/basic_features_overview.ipynb)"
   ]
  },
  {
   "cell_type": "code",
   "execution_count": null,
   "id": "2d94cae3",
   "metadata": {},
   "outputs": [],
   "source": [
    "import geocolor.foliumap as geocolor"
   ]
  },
  {
   "cell_type": "code",
   "execution_count": null,
   "id": "634cbfe4",
   "metadata": {},
   "outputs": [],
   "source": [
    "m = geocolor.Map()\n",
    "m.add_split_map(left=\"OpenStreetMap\", right=\"Esri.WorldImagery\")\n",
    "m.add_layer_control()\n",
    "m"
   ]
  },
  {
   "cell_type": "code",
   "execution_count": null,
   "id": "c5e6975a",
   "metadata": {},
   "outputs": [],
   "source": [
    "m = geocolor.Map(center=[32.7748, 22.6282], zoom=13)\n",
    "left = \"https://github.com/opengeos/data/releases/download/raster/Libya-2023-07-01.tif\"\n",
    "right = \"https://github.com/opengeos/data/releases/download/raster/Libya-2023-09-13.tif\"\n",
    "m.add_split_map(left, right)\n",
    "m"
   ]
  }
 ],
 "metadata": {
  "kernelspec": {
   "display_name": "geo",
   "language": "python",
   "name": "python3"
  },
  "language_info": {
   "codemirror_mode": {
    "name": "ipython",
    "version": 3
   },
   "file_extension": ".py",
   "mimetype": "text/x-python",
   "name": "python",
   "nbconvert_exporter": "python",
   "pygments_lexer": "ipython3",
   "version": "3.12.9"
  }
 },
 "nbformat": 4,
 "nbformat_minor": 5
}
