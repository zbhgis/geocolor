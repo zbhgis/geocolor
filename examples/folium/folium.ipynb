{
 "cells": [
  {
   "cell_type": "code",
   "execution_count": null,
   "id": "540e635f",
   "metadata": {},
   "outputs": [],
   "source": [
    "import geocolor.foliumap as geocolor"
   ]
  },
  {
   "cell_type": "code",
   "execution_count": null,
   "id": "d2188664",
   "metadata": {},
   "outputs": [],
   "source": [
    "m = geocolor.Map(center=[42, 115], zoom=10)\n",
    "m"
   ]
  }
 ],
 "metadata": {
  "kernelspec": {
   "display_name": "geo",
   "language": "python",
   "name": "python3"
  },
  "language_info": {
   "codemirror_mode": {
    "name": "ipython",
    "version": 3
   },
   "file_extension": ".py",
   "mimetype": "text/x-python",
   "name": "python",
   "nbconvert_exporter": "python",
   "pygments_lexer": "ipython3",
   "version": "3.12.9"
  }
 },
 "nbformat": 4,
 "nbformat_minor": 5
}
